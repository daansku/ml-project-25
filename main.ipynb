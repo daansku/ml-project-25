{
 "cells": [
  {
   "cell_type": "code",
   "execution_count": 14,
   "id": "93084734",
   "metadata": {},
   "outputs": [
    {
     "name": "stderr",
     "output_type": "stream",
     "text": [
      "[nltk_data] Downloading package punkt to\n",
      "[nltk_data]     C:\\Users\\danit\\AppData\\Roaming\\nltk_data...\n",
      "[nltk_data]   Package punkt is already up-to-date!\n",
      "[nltk_data] Downloading package punkt_tab to\n",
      "[nltk_data]     C:\\Users\\danit\\AppData\\Roaming\\nltk_data...\n",
      "[nltk_data]   Package punkt_tab is already up-to-date!\n",
      "[nltk_data] Downloading package stopwords to\n",
      "[nltk_data]     C:\\Users\\danit\\AppData\\Roaming\\nltk_data...\n",
      "[nltk_data]   Package stopwords is already up-to-date!\n"
     ]
    },
    {
     "data": {
      "text/plain": [
       "0        decline coal start started natural gas took st...\n",
       "1        hillary clinton agrees john mccain voting give...\n",
       "2        health care reform legislation likely mandate ...\n",
       "3                     economic turnaround started end term\n",
       "4        chicago bears starting quarterbacks last 10 ye...\n",
       "                               ...                        \n",
       "10234    larger number shark attacks florida cases vote...\n",
       "10235     democrats become party atlanta metro area blacks\n",
       "10236    says alternative social security operates galv...\n",
       "10237           lifting cuban embargo allowing travel cuba\n",
       "10238    department veterans affairs manual telling vet...\n",
       "Name: Cleaned text, Length: 10239, dtype: object"
      ]
     },
     "execution_count": 14,
     "metadata": {},
     "output_type": "execute_result"
    }
   ],
   "source": [
    "import pandas as pd\n",
    "import numpy as np\n",
    "import nltk \n",
    "from nltk.corpus import stopwords\n",
    "from nltk.tokenize import word_tokenize\n",
    "\n",
    "# Load the dataset and clean it\n",
    "\n",
    "df = pd.read_csv(\"train.tsv\", sep=\"\\t\")\n",
    "\n",
    "df.drop(columns=[\"2635.json\", \"dwayne-bohac\", \"State representative\", \"Texas\", \"republican\", \"a mailer\"], inplace=True)\n",
    "df.rename(columns={\"\": \"Index\",\n",
    "                    \"false\": \"correctness\",\n",
    "                    \"Says the Annies List political group supports third-trimester abortions on demand.\": \"Text\",\n",
    "                    \"abortion\": \"Theme\",\n",
    "                    \"0\": \"barely true counts\",\n",
    "                    \"1\": \"false counts\",\n",
    "                    \"0.1\": \"half true counts\",\n",
    "                    \"0.2\": \"mostly true counts\",\n",
    "                    \"0.3\": \"pants on fire counts\",}, inplace=True)\n",
    "\n",
    "# download necessary NLTK resources (only once)\n",
    "nltk.download(\"punkt\")\n",
    "nltk.download(\"punkt_tab\")\n",
    "nltk.download(\"stopwords\")\n",
    "\n",
    "stop_words = set(stopwords.words(\"english\"))\n",
    "\n",
    "df[\"Cleaned text\"] = df[\"Text\"].apply(\n",
    "    lambda x: \" \".join(\n",
    "        [word for word in word_tokenize(str(x).lower()) if word.isalnum() and word not in stop_words]\n",
    "    )\n",
    ")\n",
    "\n",
    "df[\"Cleaned text\"]"
   ]
  },
  {
   "cell_type": "code",
   "execution_count": null,
   "id": "650f94b7",
   "metadata": {},
   "outputs": [],
   "source": []
  },
  {
   "cell_type": "code",
   "execution_count": null,
   "id": "1a8be63b",
   "metadata": {},
   "outputs": [],
   "source": []
  }
 ],
 "metadata": {
  "kernelspec": {
   "display_name": "Python 3",
   "language": "python",
   "name": "python3"
  },
  "language_info": {
   "codemirror_mode": {
    "name": "ipython",
    "version": 3
   },
   "file_extension": ".py",
   "mimetype": "text/x-python",
   "name": "python",
   "nbconvert_exporter": "python",
   "pygments_lexer": "ipython3",
   "version": "3.12.10"
  }
 },
 "nbformat": 4,
 "nbformat_minor": 5
}
