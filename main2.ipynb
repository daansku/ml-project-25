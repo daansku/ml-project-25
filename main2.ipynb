{
 "cells": [
  {
   "cell_type": "markdown",
   "id": "5397f831",
   "metadata": {},
   "source": [
    "### Testing another dataset\n",
    "https://www.kaggle.com/datasets/saurabhshahane/fake-news-classification"
   ]
  },
  {
   "cell_type": "code",
   "execution_count": null,
   "id": "dc0d4aba",
   "metadata": {},
   "outputs": [],
   "source": [
    "import pandas as pd\n",
    "import numpy as np\n",
    "from sklearn.linear_model import LogisticRegression\n",
    "from sklearn.metrics import classification_report\n",
    "from sklearn.metrics import accuracy_score\n",
    "from sklearn.feature_extraction.text import TfidfVectorizer\n",
    "import sklearn.metrics as metrics\n",
    "from sklearn.model_selection import train_test_split\n"
   ]
  },
  {
   "cell_type": "code",
   "execution_count": null,
   "id": "9e0eec1b",
   "metadata": {},
   "outputs": [],
   "source": [
    "df = pd.read_csv('WELFake_Dataset.csv')\n",
    "\n",
    "# Check number of NaN values\n",
    "print(\"Number of NaN values in text column:\", df['text'].isna().sum())\n",
    "\n",
    "# Remove rows with NaN values\n",
    "df = df.dropna(subset=['text'])\n",
    "\n",
    "# Convert text column to string type to ensure compatibility\n",
    "df['text'] = df['text'].astype(str)\n",
    "\n",
    "print(\"Shape of dataset after cleaning:\", df.shape)"
   ]
  },
  {
   "cell_type": "code",
   "execution_count": null,
   "id": "2b832983",
   "metadata": {},
   "outputs": [],
   "source": [
    "train, test = train_test_split(df, test_size=0.2, random_state=42)"
   ]
  },
  {
   "cell_type": "code",
   "execution_count": null,
   "id": "5dbf9b08",
   "metadata": {},
   "outputs": [],
   "source": [
    "v = TfidfVectorizer()\n",
    "train_X = v.fit_transform(train['text'])\n",
    "train_y = train['label'].to_numpy()\n",
    "test_X = v.transform(test['text'])\n",
    "test_y = test['label'].to_numpy()"
   ]
  },
  {
   "cell_type": "code",
   "execution_count": null,
   "id": "5aa70482",
   "metadata": {},
   "outputs": [],
   "source": [
    "clf = LogisticRegression(max_iter=200)\n",
    "clf.fit(train_X, train_y)\n",
    "y_pred = clf.predict(test_X)\n",
    "test_accuracy = accuracy_score(test_y, y_pred)\n",
    "print(f\"Tsst accuracy: {test_accuracy:.2f}\")\n",
    "print(classification_report(test_y, y_pred))\n"
   ]
  },
  {
   "cell_type": "code",
   "execution_count": null,
   "id": "e28cb61e",
   "metadata": {},
   "outputs": [],
   "source": [
    "import matplotlib.pyplot as plt\n",
    "\n",
    "conf_mat = metrics.confusion_matrix(test_y, y_pred)\n",
    "cm_display = metrics.ConfusionMatrixDisplay(confusion_matrix = conf_mat, display_labels = [0, 1])\n",
    "\n",
    "cm_display.plot()\n",
    "plt.show()\n"
   ]
  },
  {
   "cell_type": "code",
   "execution_count": null,
   "id": "9e4a8af5",
   "metadata": {},
   "outputs": [],
   "source": []
  }
 ],
 "metadata": {
  "kernelspec": {
   "display_name": "Python 3",
   "language": "python",
   "name": "python3"
  },
  "language_info": {
   "codemirror_mode": {
    "name": "ipython",
    "version": 3
   },
   "file_extension": ".py",
   "mimetype": "text/x-python",
   "name": "python",
   "nbconvert_exporter": "python",
   "pygments_lexer": "ipython3",
   "version": "3.12.1"
  }
 },
 "nbformat": 4,
 "nbformat_minor": 5
}
