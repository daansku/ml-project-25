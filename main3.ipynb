{
 "cells": [
  {
   "cell_type": "code",
   "execution_count": null,
   "id": "b2d8125f",
   "metadata": {},
   "outputs": [],
   "source": [
    "import geopandas as gpd\n",
    "import pandas as pd\n",
    "import requests as req\n",
    "\n",
    "# Path to the .tab file inside the zip\n",
    "tab_file = \"rakennukset_Helsinki_06_2012_wgs84.TAB\"\n",
    "\n",
    "# Read the .tab file using geopandas\n",
    "df = gpd.read_file(tab_file)"
   ]
  },
  {
   "cell_type": "code",
   "execution_count": null,
   "id": "2dbbc321",
   "metadata": {},
   "outputs": [],
   "source": [
    "df = df[[\"Osoite\", \"C_VALMPVM\", \"C_KAYTTARK\", \"I_PYRAKNRO\", \"C_KUNTA\", \"I_KOKALA\", \"I_KERRLKM\", \"C_LAMMTAPA\", \"C_POLTAINE\", \"I_RAKTILAV\", \"C_RAKEAINE\"]]\n",
    "\n",
    "df.sort_values(by=\"C_VALMPVM\", ascending=False, inplace=True)\n",
    "\n",
    "df.drop_duplicates(subset=[\"Osoite\"], inplace=True)\n",
    "\n",
    "df = df[2:]\n",
    "\n",
    "df = df[\n",
    "    (df[\"Osoite\"] != \"\") &\n",
    "    (df[\"C_VALMPVM\"] > \"1800-01-01\") &\n",
    "    (df[\"C_LAMMTAPA\"] != \"\") &\n",
    "    (df[\"C_RAKEAINE\"] != \"\") &\n",
    "    (df[\"C_POLTAINE\"] != \"\")\n",
    "]\n",
    "\n",
    "df\n"
   ]
  }
 ],
 "metadata": {
  "kernelspec": {
   "display_name": "Python 3",
   "language": "python",
   "name": "python3"
  },
  "language_info": {
   "codemirror_mode": {
    "name": "ipython",
    "version": 3
   },
   "file_extension": ".py",
   "mimetype": "text/x-python",
   "name": "python",
   "nbconvert_exporter": "python",
   "pygments_lexer": "ipython3",
   "version": "3.12.10"
  }
 },
 "nbformat": 4,
 "nbformat_minor": 5
}
