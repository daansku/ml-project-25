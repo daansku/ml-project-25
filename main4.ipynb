{
  "cells": [
    {
      "cell_type": "code",
      "execution_count": 1,
      "id": "be6bf8ab",
      "metadata": {},
      "outputs": [],
      "source": [
        "import numpy as np \n",
        "from tqdm import tqdm\n",
        "import cv2\n",
        "import os\n",
        "import imutils\n",
        "\n",
        "# Preprocess images, code from github https://github.com/masoudnick/Brain-Tumor-MRI-Classification/blob/main/Preprocessing.py\n",
        "\n",
        "def crop_img(img):\n",
        "\t\"\"\"\n",
        "\tFinds the extreme points on the image and crops the rectangular out of them\n",
        "\t\"\"\"\n",
        "\tgray = cv2.cvtColor(img, cv2.COLOR_RGB2GRAY)\n",
        "\tgray = cv2.GaussianBlur(gray, (3, 3), 0)\n",
        "\n",
        "\t# threshold the image, then perform a series of erosions +\n",
        "\t# dilations to remove any small regions of noise\n",
        "\tthresh = cv2.threshold(gray, 45, 255, cv2.THRESH_BINARY)[1]\n",
        "\tthresh = cv2.erode(thresh, None, iterations=2)\n",
        "\tthresh = cv2.dilate(thresh, None, iterations=2)\n",
        "\n",
        "\t# find contours in thresholded image, then grab the largest one\n",
        "\tcnts = cv2.findContours(thresh.copy(), cv2.RETR_EXTERNAL, cv2.CHAIN_APPROX_SIMPLE)\n",
        "\tcnts = imutils.grab_contours(cnts)\n",
        "\tc = max(cnts, key=cv2.contourArea)\n",
        "\n",
        "\t# find the extreme points\n",
        "\textLeft = tuple(c[c[:, :, 0].argmin()][0])\n",
        "\textRight = tuple(c[c[:, :, 0].argmax()][0])\n",
        "\textTop = tuple(c[c[:, :, 1].argmin()][0])\n",
        "\textBot = tuple(c[c[:, :, 1].argmax()][0])\n",
        "\tADD_PIXELS = 0\n",
        "\tnew_img = img[extTop[1]-ADD_PIXELS:extBot[1]+ADD_PIXELS, extLeft[0]-ADD_PIXELS:extRight[0]+ADD_PIXELS].copy()\n",
        "\t\n",
        "\treturn new_img\n",
        "\t"
      ]
    },
    {
      "cell_type": "code",
      "execution_count": 17,
      "id": "5c25af71",
      "metadata": {},
      "outputs": [],
      "source": [
        "training = \"Training\"\n",
        "testing = \"Testing\"\n",
        "training_dir = os.listdir(training)\n",
        "testing_dir = os.listdir(testing)\n",
        "IMG_SIZE = 64\n",
        "\n",
        "for dir in training_dir:\n",
        "    save_path = 'cleaned/Training/'+ dir\n",
        "    path = os.path.join(training,dir)\n",
        "    image_dir = os.listdir(path)\n",
        "    for img in image_dir:\n",
        "        image = cv2.imread(os.path.join(path,img))\n",
        "        new_img = crop_img(image)\n",
        "        new_img = cv2.resize(new_img,(IMG_SIZE,IMG_SIZE))\n",
        "        if not os.path.exists(save_path):\n",
        "            os.makedirs(save_path)\n",
        "        cv2.imwrite(save_path+'/'+img, new_img)\n",
        "\n",
        "for dir in testing_dir:\n",
        "    save_path = 'cleaned/Testing/'+ dir\n",
        "    path = os.path.join(testing,dir)\n",
        "    image_dir = os.listdir(path)\n",
        "    for img in image_dir:\n",
        "        image = cv2.imread(os.path.join(path,img))\n",
        "        new_img = crop_img(image)\n",
        "        new_img = cv2.resize(new_img,(IMG_SIZE,IMG_SIZE))\n",
        "        if not os.path.exists(save_path):\n",
        "            os.makedirs(save_path)\n",
        "        cv2.imwrite(save_path+'/'+img, new_img)"
      ]
    },
    {
      "cell_type": "markdown",
      "id": "66d05ddf",
      "metadata": {},
      "source": [
        "## Training and testing with different methods"
      ]
    },
    {
      "cell_type": "code",
      "execution_count": null,
      "id": "2e83cce5",
      "metadata": {},
      "outputs": [],
      "source": [
        "from sklearn.datasets import load_files\n",
        "import numpy as np\n",
        "from sklearn.linear_model import LogisticRegression\n",
        "from sklearn.ensemble import RandomForestClassifier\n",
        "from sklearn.metrics import confusion_matrix\n",
        "from sklearn.metrics import ConfusionMatrixDisplay\n",
        "from sklearn.svm import SVC\n",
        "import os\n",
        "import cv2\n",
        "import numpy as np\n",
        "\n",
        "\n",
        "def super_simple_load(data_dir, img_size=(IMG_SIZE, IMG_SIZE)):\n",
        "    X, y = [], []\n",
        "    \n",
        "    for folder in os.listdir(data_dir):\n",
        "        folder_path = os.path.join(data_dir, folder)\n",
        "        if not os.path.isdir(folder_path):\n",
        "            continue\n",
        "            \n",
        "        label = len(set(y))\n",
        "        \n",
        "        for img_file in os.listdir(folder_path):\n",
        "            if img_file.lower().endswith(('.jpg', '.png', '.jpeg')):\n",
        "                img_path = os.path.join(folder_path, img_file)\n",
        "                img = cv2.imread(img_path, 0)  # Grayscale\n",
        "                img = cv2.resize(img, img_size).flatten() / 255.0\n",
        "                \n",
        "                X.append(img)\n",
        "                y.append(label)\n",
        "    \n",
        "    return np.array(X), np.array(y)"
      ]
    },
    {
      "cell_type": "code",
      "execution_count": null,
      "id": "6600daef",
      "metadata": {},
      "outputs": [
        {
          "data": {
            "text/plain": [
              "4096"
            ]
          },
          "execution_count": 9,
          "metadata": {},
          "output_type": "execute_result"
        }
      ],
      "source": [
        "# load the data and split them into train and test\n",
        "X_train, y_train = super_simple_load(\"training/\")\n",
        "X_test, y_test = super_simple_load(\"testing/\")"
      ]
    },
    {
      "cell_type": "markdown",
      "id": "5ccbe10a",
      "metadata": {},
      "source": [
        "### Logistic Regression with Loss Tracking\n",
        "\n",
        "We'll implement logistic regression with loss tracking to visualize how the model learns over iterations."
      ]
    },
    {
      "cell_type": "code",
      "execution_count": null,
      "id": "15cdaba1",
      "metadata": {},
      "outputs": [
        {
          "name": "stdout",
          "output_type": "stream",
          "text": [
            "Accuracy: 0.9000762776506483\n"
          ]
        }
      ],
      "source": [
        "\n",
        "model = LogisticRegression(max_iter=1000)\n",
        "model.fit(X_train, y_train)\n",
        "y_pred = model.predict(X_test)\n",
        "accuracy = model.score(X_test, y_test)\n",
        "\n",
        "print(f\"Accuracy: {accuracy}\")\n",
        "\n"
      ]
    },
    {
      "cell_type": "markdown",
      "id": "eb59d78f",
      "metadata": {},
      "source": [
        "### SVC"
      ]
    },
    {
      "cell_type": "code",
      "execution_count": 15,
      "id": "0d37a053",
      "metadata": {},
      "outputs": [
        {
          "name": "stdout",
          "output_type": "stream",
          "text": [
            "SVC accuracy: 0.9061784897025171\n"
          ]
        },
        {
          "data": {
            "text/plain": [
              "<sklearn.metrics._plot.confusion_matrix.ConfusionMatrixDisplay at 0x22956847c20>"
            ]
          },
          "execution_count": 15,
          "metadata": {},
          "output_type": "execute_result"
        },
        {
          "data": {
            "image/png": "[encoded data removed]",
            "text/plain": [
              "<Figure size 640x480 with 2 Axes>"
            ]
          },
          "metadata": {},
          "output_type": "display_data"
        }
      ],
      "source": [
        "# train model\n",
        "svc_model = SVC(kernel=\"linear\").fit(X_train, y_train)\n",
        "svc_y_pred = svc_model.predict(X_test)\n",
        "print(f\"SVC accuracy: {svc_model.score(X_test, y_test)}\")\n",
        "\n",
        "# confusion matrix\n",
        "svc_cm = confusion_matrix(y_test, svc_y_pred)\n",
        "svc_disp = ConfusionMatrixDisplay(confusion_matrix=svc_cm, display_labels=[\"Glioma\", \"Meningioma\", \"No tumor\", \"Pituitary\"])\n",
        "svc_disp.plot()"
      ]
    },
    {
      "cell_type": "markdown",
      "id": "1e19caea",
      "metadata": {},
      "source": [
        "### KNN"
      ]
    },
    {
      "cell_type": "code",
      "execution_count": 16,
      "id": "2d171f63",
      "metadata": {},
      "outputs": [
        {
          "name": "stdout",
          "output_type": "stream",
          "text": [
            "Accuracy: 0.8703279938977879\n"
          ]
        }
      ],
      "source": [
        "from sklearn.neighbors import KNeighborsClassifier\n",
        "from sklearn.preprocessing import StandardScaler\n",
        "\n",
        "knn = KNeighborsClassifier(n_neighbors=4)\n",
        "scaler = StandardScaler()\n",
        "X_train_scaled = scaler.fit_transform(X_train)\n",
        "X_test_scaled = scaler.transform(X_test)\n",
        "knn.fit(X_train_scaled, y_train)\n",
        "\n",
        "accuracy = knn.score(X_test_scaled, y_test)\n",
        "print(f\"Accuracy: {accuracy}\")\n",
        "\n"
      ]
    },
    {
      "cell_type": "code",
      "execution_count": null,
      "id": "542b42f4",
      "metadata": {},
      "outputs": [],
      "source": []
    }
  ],
  "metadata": {
    "kernelspec": {
      "display_name": "Python 3",
      "language": "python",
      "name": "python3"
    },
    "language_info": {
      "codemirror_mode": {
        "name": "ipython",
        "version": 3
      },
      "file_extension": ".py",
      "mimetype": "text/x-python",
      "name": "python",
      "nbconvert_exporter": "python",
      "pygments_lexer": "ipython3",
      "version": "3.12.1"
    }
  },
  "nbformat": 4,
  "nbformat_minor": 5
}
